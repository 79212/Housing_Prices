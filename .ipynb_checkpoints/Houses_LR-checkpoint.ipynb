{
 "cells": [
  {
   "cell_type": "code",
   "execution_count": 111,
   "metadata": {
    "collapsed": false
   },
   "outputs": [],
   "source": [
    "import pandas as pd\n",
    "import numpy as np\n",
    "\n",
    "from sklearn import preprocessing, svm, model_selection\n",
    "from sklearn.linear_model import LinearRegression\n",
    "from sklearn.model_selection import KFold, cross_val_score\n",
    "#from sklearn.model_selection import train_test_split\n",
    "\n",
    "# Reads in Data\n",
    "houses = pd.read_csv(\"test.csv\")"
   ]
  },
  {
   "cell_type": "code",
   "execution_count": 112,
   "metadata": {
    "collapsed": false
   },
   "outputs": [],
   "source": [
    "# Creates SalesPrice Column\n",
    "houses['SalePrice'] = 0.00\n",
    "\n",
    "# Selects Most Meaningful Columns to work with\n",
    "houses = houses[[\"Id\", \"SalePrice\", \"LotArea\",\"TotalBsmtSF\", \"1stFlrSF\", \"2ndFlrSF\", \"GrLivArea\", \"BsmtFullBath\", \"BsmtHalfBath\", \"FullBath\", \"HalfBath\", \"BedroomAbvGr\", \"YrSold\", \"YearBuilt\", \"OverallQual\", \"OverallCond\"]]\n",
    "#print(houses.head())"
   ]
  },
  {
   "cell_type": "code",
   "execution_count": 100,
   "metadata": {
    "collapsed": false
   },
   "outputs": [
    {
     "name": "stderr",
     "output_type": "stream",
     "text": [
      "/Users/ryanallred/anaconda/lib/python3.5/site-packages/ipykernel/__main__.py:4: SettingWithCopyWarning: \n",
      "A value is trying to be set on a copy of a slice from a DataFrame.\n",
      "Try using .loc[row_indexer,col_indexer] = value instead\n",
      "\n",
      "See the caveats in the documentation: http://pandas.pydata.org/pandas-docs/stable/indexing.html#indexing-view-versus-copy\n",
      "/Users/ryanallred/anaconda/lib/python3.5/site-packages/ipykernel/__main__.py:5: SettingWithCopyWarning: \n",
      "A value is trying to be set on a copy of a slice from a DataFrame.\n",
      "Try using .loc[row_indexer,col_indexer] = value instead\n",
      "\n",
      "See the caveats in the documentation: http://pandas.pydata.org/pandas-docs/stable/indexing.html#indexing-view-versus-copy\n",
      "/Users/ryanallred/anaconda/lib/python3.5/site-packages/ipykernel/__main__.py:8: SettingWithCopyWarning: \n",
      "A value is trying to be set on a copy of a slice from a DataFrame.\n",
      "Try using .loc[row_indexer,col_indexer] = value instead\n",
      "\n",
      "See the caveats in the documentation: http://pandas.pydata.org/pandas-docs/stable/indexing.html#indexing-view-versus-copy\n",
      "/Users/ryanallred/anaconda/lib/python3.5/site-packages/ipykernel/__main__.py:9: SettingWithCopyWarning: \n",
      "A value is trying to be set on a copy of a slice from a DataFrame.\n",
      "Try using .loc[row_indexer,col_indexer] = value instead\n",
      "\n",
      "See the caveats in the documentation: http://pandas.pydata.org/pandas-docs/stable/indexing.html#indexing-view-versus-copy\n",
      "/Users/ryanallred/anaconda/lib/python3.5/site-packages/ipykernel/__main__.py:12: SettingWithCopyWarning: \n",
      "A value is trying to be set on a copy of a slice from a DataFrame.\n",
      "Try using .loc[row_indexer,col_indexer] = value instead\n",
      "\n",
      "See the caveats in the documentation: http://pandas.pydata.org/pandas-docs/stable/indexing.html#indexing-view-versus-copy\n",
      "/Users/ryanallred/anaconda/lib/python3.5/site-packages/ipykernel/__main__.py:13: SettingWithCopyWarning: \n",
      "A value is trying to be set on a copy of a slice from a DataFrame.\n",
      "Try using .loc[row_indexer,col_indexer] = value instead\n",
      "\n",
      "See the caveats in the documentation: http://pandas.pydata.org/pandas-docs/stable/indexing.html#indexing-view-versus-copy\n"
     ]
    }
   ],
   "source": [
    "# Creates new features: TotSqf, TotSqf2, Age, Age2, TotFullBath, TotHalfBath\n",
    "\n",
    "# Square Footage \n",
    "houses[\"TotSqf\"] = (houses['TotalBsmtSF'] + houses[\"1stFlrSF\"] + houses[\"2ndFlrSF\"])\n",
    "houses[\"TotSqf2\"] = houses[\"TotSqf\"] * houses[\"TotSqf\"]\n",
    "\n",
    "# Age \n",
    "houses[\"Age\"] = houses[\"YrSold\"] - houses[\"YearBuilt\"]\n",
    "houses[\"Age2\"] = houses[\"Age\"] * houses[\"Age\"]\n",
    "\n",
    "# Num Full/Half Baths\n",
    "houses[\"TotFullBath\"] = houses[\"BsmtFullBath\"] + houses[\"FullBath\"]\n",
    "houses[\"TotHalfBath\"] = houses[\"BsmtHalfBath\"] + houses[\"HalfBath\"]\n",
    "\n",
    "#print(houses.head())"
   ]
  },
  {
   "cell_type": "code",
   "execution_count": 101,
   "metadata": {
    "collapsed": false
   },
   "outputs": [
    {
     "name": "stdout",
     "output_type": "stream",
     "text": [
      "   Id  SalePrice  LotArea  TotSqf   TotSqf2  Age  Age2  TotFullBath  \\\n",
      "0   1     208500     8450    2566   6584356    5    25            3   \n",
      "1   2     181500     9600    2524   6370576   31   961            2   \n",
      "2   3     223500    11250    2706   7322436    7    49            3   \n",
      "3   4     140000     9550    2473   6115729   91  8281            2   \n",
      "4   5     250000    14260    3343  11175649    8    64            3   \n",
      "\n",
      "   TotHalfBath  BedroomAbvGr  OverallQual  OverallCond  \n",
      "0            1             3            7            5  \n",
      "1            1             3            6            8  \n",
      "2            1             3            7            5  \n",
      "3            0             3            7            5  \n",
      "4            1             4            8            5  \n"
     ]
    }
   ],
   "source": [
    "# Select only those columns that we will need for our regression and sample submission\n",
    "houses = houses[[\"Id\", \"SalePrice\", \"LotArea\", \"TotSqf\", \"TotSqf2\", \"Age\", \"Age2\", \"TotFullBath\", \"TotHalfBath\", \"BedroomAbvGr\", \"OverallQual\", \"OverallCond\"]]\n",
    "print(houses.head())"
   ]
  },
  {
   "cell_type": "code",
   "execution_count": 87,
   "metadata": {
    "collapsed": false
   },
   "outputs": [
    {
     "name": "stdout",
     "output_type": "stream",
     "text": [
      "0.810407958679\n"
     ]
    },
    {
     "name": "stderr",
     "output_type": "stream",
     "text": [
      "/Users/ryanallred/anaconda/lib/python3.5/site-packages/sklearn/utils/validation.py:429: DataConversionWarning: Data with input dtype int64 was converted to float64 by the scale function.\n",
      "  warnings.warn(msg, _DataConversionWarning)\n"
     ]
    }
   ],
   "source": [
    "# # Sets forecast column to a string to make it easy to change if you want to repurpose this code for later.\n",
    "# forecast_col = \"SalePrice\"\n",
    "# # Fills in NA values - I don't think we have any with the variables currently selected but it's a good habit.\n",
    "# houses.fillna(-99999, inplace=True)\n",
    "\n",
    "# # Designate \"predictors\" - explanatory variables\n",
    "# #predictors = houses.columns.values[1:11]\n",
    "# #print(predictors)\n",
    "\n",
    "# X = np.array(houses.drop([\"SalePrice\"],1))\n",
    "# #print(X)\n",
    "\n",
    "# y = np.array(houses[\"SalePrice\"])\n",
    "# #print(y)\n",
    "\n",
    "# X = preprocessing.scale(X)\n",
    "# #print(X)\n",
    "\n",
    "# X_train, X_test, y_train, y_test = train_test_split(X, y, test_size=0.2)\n",
    "# classifier = LinearRegression()\n",
    "# classifier.fit(X_train, y_train)\n",
    "# accuracy = classifier.score(X_test, y_test)\n",
    "\n",
    "# print(accuracy)\n",
    "\n",
    "# #print(houses[\"SalesPrice\"])"
   ]
  },
  {
   "cell_type": "code",
   "execution_count": 103,
   "metadata": {
    "collapsed": false
   },
   "outputs": [
    {
     "name": "stdout",
     "output_type": "stream",
     "text": [
      "   Id  SalePrice  LotArea  TotSqf   TotSqf2  Age  Age2  TotFullBath  \\\n",
      "0   1     208500     8450    2566   6584356    5    25            3   \n",
      "1   2     181500     9600    2524   6370576   31   961            2   \n",
      "2   3     223500    11250    2706   7322436    7    49            3   \n",
      "3   4     140000     9550    2473   6115729   91  8281            2   \n",
      "4   5     250000    14260    3343  11175649    8    64            3   \n",
      "\n",
      "   TotHalfBath  BedroomAbvGr  OverallQual  OverallCond  \n",
      "0            1             3            7            5  \n",
      "1            1             3            6            8  \n",
      "2            1             3            7            5  \n",
      "3            0             3            7            5  \n",
      "4            1             4            8            5  \n",
      "5\n",
      "KFold(n_splits=5, random_state=None, shuffle=True)\n",
      "[ 166897.02693413  125636.73567271  227398.88676166 ...,  150924.87825448\n",
      "  240749.22082778  138860.05743067]\n"
     ]
    }
   ],
   "source": [
    "#predictors = [\"Pclass\", \"Sex\", \"Age\", \"SibSp\", \"Parch\", \"Fare\", \"Embarked\"]\n",
    "# alg = LinearRegression()\n",
    "# kf = KFold(titanic.shape[0], n_folds=3, random_state=1)\n",
    "# predictions = []\n",
    "# for train, test in kf:\n",
    "#     train_predictors = (titanic[predictors].iloc[train,:])\n",
    "#     train_target = titanic[\"Survived\"].iloc[train]\n",
    "#     alg.fit(train_predictors, train_target)\n",
    "#     test_predictions = alg.predict(titanic[predictors].iloc[test,:])\n",
    "#     predictions.append(test_predictions)\n",
    "# predictions = np.concatenate(predictions, axis=0)\n",
    "\n",
    "print(houses.head())\n",
    "predictors = [\"LotArea\", \"TotSqf\", \"TotSqf2\", \"Age\", \"Age2\", \"TotFullBath\", \"TotHalfBath\", \"BedroomAbvGr\", \"OverallQual\", \"OverallCond\"]\n",
    "alg = LinearRegression()\n",
    "kf = KFold(n_splits=5, shuffle=True)\n",
    "print(kf.get_n_splits(X))\n",
    "print(kf)\n",
    "predictions = []\n",
    "\n",
    "# for train, test in kf.split(X):\n",
    "# ...    print(\"TRAIN:\", train_index, \"TEST:\", test_index)\n",
    "# ...    X_train, X_test = X[train_index], X[test_index]\n",
    "# ...    y_train, y_test = y[train_index], y[test_index]\n",
    "# TRAIN: [2 3] TEST: [0 1]\n",
    "# TRAIN: [0 1] TEST: [2 3]\n",
    "\n",
    "\n",
    "for train, test in kf.split(X):\n",
    "    train_predictors = (houses[predictors].iloc[train,:])\n",
    "    train_target = houses[\"SalePrice\"].iloc[train]\n",
    "    alg.fit(train_predictors, train_target)\n",
    "    test_predictions = alg.predict(houses[predictors].iloc[test,:])\n",
    "    predictions.append(test_predictions)\n",
    "predictions = np.concatenate(predictions, axis=0)\n",
    "\n",
    "\n",
    "print(predictions)\n",
    "    "
   ]
  },
  {
   "cell_type": "code",
   "execution_count": 107,
   "metadata": {
    "collapsed": false
   },
   "outputs": [],
   "source": [
    "for column in houses:\n",
    "    if column != \"SalePrice\" and column != \"id\":\n",
    "        houses.drop(column, 1, inplace=True)\n",
    "houses.to_csv(\"final.csv\", index=False, float_format='%.3f')"
   ]
  },
  {
   "cell_type": "code",
   "execution_count": null,
   "metadata": {
    "collapsed": true
   },
   "outputs": [],
   "source": []
  }
 ],
 "metadata": {
  "anaconda-cloud": {},
  "kernelspec": {
   "display_name": "Python [default]",
   "language": "python",
   "name": "python3"
  },
  "language_info": {
   "codemirror_mode": {
    "name": "ipython",
    "version": 3
   },
   "file_extension": ".py",
   "mimetype": "text/x-python",
   "name": "python",
   "nbconvert_exporter": "python",
   "pygments_lexer": "ipython3",
   "version": "3.5.2"
  }
 },
 "nbformat": 4,
 "nbformat_minor": 1
}
